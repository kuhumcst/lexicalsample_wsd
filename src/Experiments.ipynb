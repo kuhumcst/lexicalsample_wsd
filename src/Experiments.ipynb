{
 "cells": [
  {
   "cell_type": "markdown",
   "metadata": {},
   "source": [
    "## Experiment"
   ]
  },
  {
   "cell_type": "code",
   "execution_count": 1,
   "metadata": {
    "collapsed": true
   },
   "outputs": [],
   "source": [
    "import pandas as pd\n",
    "import numpy as np\n",
    "import glob\n",
    "import pickle\n",
    "from sklearn.model_selection import KFold\n",
    "from sklearn.svm import LinearSVC\n",
    "from sklearn.dummy import DummyClassifier\n",
    "from sklearn.metrics import confusion_matrix\n",
    "from sklearn.metrics import accuracy_score\n",
    "import matplotlib.pyplot as plt\n",
    "import seaborn as sns\n",
    "%matplotlib inline"
   ]
  },
  {
   "cell_type": "code",
   "execution_count": 2,
   "metadata": {
    "collapsed": true
   },
   "outputs": [],
   "source": [
    "\n",
    "def get_feat_templates_classes (dataframe):\n",
    "    feat_template_list = []\n",
    "    class_list = []\n",
    "    indices = [indel for indel,el in enumerate(dataframe.label) if not all([opt == \"_\" for opt in el.split(\"|\")])]\n",
    "    \n",
    "    for annoix in indices:\n",
    "        sentencename = dataframe.iloc[annoix][0]\n",
    "        bol= [x.lower() for x in dataframe.loc[dataframe['Unnamed: 0'] == sentencename, 'lemma'].iloc[:]]\n",
    "        surrounding_lemmas=[]#-4 to 4 surrounding lemmas + bag-of-lemmas\n",
    "        sentencename = dataframe.iloc[annoix][0]\n",
    "        bol= [x.lower() for x in dataframe.loc[dataframe['Unnamed: 0'] == sentencename, 'lemma'].iloc[:]]\n",
    "        if annoix+n < len(dataframe):\n",
    "            lemmas=[(dataframe.iloc[annoix+i][0], \"lemma\"+str(i)+\"=\"+dataframe.iloc[annoix+i].lemma) for i in n_range]\n",
    "        else:\n",
    "            lemmas=[(dataframe.iloc[annoix+i][0], \"lemma\"+str(i)+\"=\"+dataframe.iloc[annoix+i].lemma) for i in range(-n,(len(dataframe)-annoix)) if i!=0]\n",
    "            for i in range ((len(dataframe)-annoix), n+1):\n",
    "                lemmas.append((sentencename,\"lemma\"+str(i)+\"=#\"))\n",
    "        index=-n\n",
    "        for ix, lem in lemmas:\n",
    "            if ix == sentencename:\n",
    "                surrounding_lemmas.append(lem.lower())\n",
    "            else:\n",
    "                surrounding_lemmas.append('lemma'+str(index)+'=#')\n",
    "            index = index + 1\n",
    "            if index == 0:\n",
    "                index = index + 1\n",
    "        sentence_feat_templates = surrounding_lemmas + bol\n",
    "        feat_template_list.append(sentence_feat_templates)\n",
    "        class_list.append(dataframe.iloc[annoix].label)\n",
    "    return (np.array(feat_template_list), np.array(class_list))"
   ]
  },
  {
   "cell_type": "code",
   "execution_count": 3,
   "metadata": {},
   "outputs": [
    {
     "data": {
      "text/plain": [
       "array([ 1.,  0.,  0.,  1.,  0.,  0.,  0.,  0.,  0.,  0.])"
      ]
     },
     "execution_count": 3,
     "metadata": {},
     "output_type": "execute_result"
    }
   ],
   "source": [
    "def hot_vector(size, sent_feat_temps):\n",
    "    sent_feats = np.zeros(size)\n",
    "    for element in sent_feat_temps:\n",
    "        sent_feats[element] = 1    \n",
    "    return sent_feats\n",
    "\n",
    "hot_vector (10, [0,3])"
   ]
  },
  {
   "cell_type": "code",
   "execution_count": 4,
   "metadata": {
    "collapsed": true
   },
   "outputs": [],
   "source": [
    "def create_vocab(fts):\n",
    "    rV=[]\n",
    "    for el in fts:\n",
    "        rV.extend(el)\n",
    "    rV=set(rV)\n",
    "    return rV\n",
    "\n",
    "#print (feattoint)\n",
    "#print (inttofeat)"
   ]
  },
  {
   "cell_type": "code",
   "execution_count": 5,
   "metadata": {
    "collapsed": true
   },
   "outputs": [],
   "source": [
    "def evaluate (predicted, gold):\n",
    "#    print (\"PRedicted\",len(predicted))\n",
    "#    print (\"gold\",len(gold))\n",
    "#    for indel, el in enumerate(gold):\n",
    "#        print (predicted[indel], gold[indel], predicted[indel] in gold[indel].split(\"|\"))\n",
    "    correct = [predicted[indel] in gold[indel].split(\"|\") for indel, el in enumerate(gold)]\n",
    "#    print (np.sum(correct))\n",
    "    return np.sum(correct)/len(gold)"
   ]
  },
  {
   "cell_type": "code",
   "execution_count": 6,
   "metadata": {},
   "outputs": [
    {
     "name": "stdout",
     "output_type": "stream",
     "text": [
      "data_noOs_csv-files/clustered/output0.csv\n",
      "data_noOs_csv-files/clustered/output1.csv\n",
      "data_noOs_csv-files/clustered/output2.csv\n",
      "data_noOs_csv-files/clustered/output3.csv\n",
      "data_noOs_csv-files/clustered/output4.csv\n",
      "data_noOs_csv-files/clustered/output5.csv\n",
      "data_noOs_csv-files/clustered/output6.csv\n",
      "data_noOs_csv-files/clustered/output7.csv\n",
      "data_noOs_csv-files/clustered/output8.csv\n",
      "data_noOs_csv-files/clustered/output9.csv\n",
      "data_noOs_csv-files/clustered-reduced/output0.csv\n",
      "data_noOs_csv-files/clustered-reduced/output1.csv\n",
      "data_noOs_csv-files/clustered-reduced/output2.csv\n",
      "data_noOs_csv-files/clustered-reduced/output3.csv\n",
      "data_noOs_csv-files/clustered-reduced/output4.csv\n",
      "data_noOs_csv-files/clustered-reduced/output5.csv\n",
      "data_noOs_csv-files/clustered-reduced/output6.csv\n",
      "data_noOs_csv-files/clustered-reduced/output7.csv\n",
      "data_noOs_csv-files/clustered-reduced/output8.csv\n",
      "data_noOs_csv-files/clustered-reduced/output9.csv\n",
      "data_noOs_csv-files/regular/output0.csv\n",
      "data_noOs_csv-files/regular/output1.csv\n",
      "data_noOs_csv-files/regular/output2.csv\n",
      "data_noOs_csv-files/regular/output3.csv\n",
      "data_noOs_csv-files/regular/output4.csv\n",
      "data_noOs_csv-files/regular/output5.csv\n",
      "data_noOs_csv-files/regular/output6.csv\n",
      "data_noOs_csv-files/regular/output7.csv\n",
      "data_noOs_csv-files/regular/output8.csv\n",
      "data_noOs_csv-files/regular/output9.csv\n"
     ]
    }
   ],
   "source": [
    "path = \"data_noOs_csv-files/*/output*.csv\"\n",
    "\n",
    "n=4 ##LEMMA WINDOW SIZE\n",
    "n_range = [i for i in range(-n,n+1) if i!=0]\n",
    "results={}\n",
    "dummyresults={}\n",
    "for file in glob.glob(path):\n",
    "    print (file)\n",
    "    results[file]=[]\n",
    "    dummyresults[file]=[]\n",
    "    df=pd.read_csv(file, sep='\\t', usecols=[0,1,2,4,6])\n",
    "    feat_templates, classes = get_feat_templates_classes(df)\n",
    "    assert len(feat_templates) == len(classes)\n",
    "#    classes = [not all([opt == \"_\" for opt in el.split(\"|\")]) for el in dataframe.label]\n",
    "#    indices = [indel for indel,el in enumerate(dataframe.label) if not all([opt == \"_\" for opt in el.split(\"|\")])]\n",
    "\n",
    "    kf = KFold(n_splits=5)\n",
    "    for train, test in kf.split(feat_templates):\n",
    "        V= create_vocab (feat_templates[train])\n",
    "        V_inttofeat = dict(zip(range(len(V)), V))\n",
    "        V_feattoint = dict(zip(V, range(len(V))))\n",
    "        V_size = len(V)\n",
    "        \n",
    "        X_nr = np.array([hot_vector (V_size, [V_feattoint[active_feature] for active_feature in instance]) for instance in feat_templates[train]])\n",
    "\n",
    "        X=[]\n",
    "        Y=[]\n",
    "        for ind_instance, each_instance in enumerate(classes[train]):\n",
    "            possible_classes = each_instance.split(\"|\")\n",
    "            for each_class in possible_classes:\n",
    "                X.append(X_nr[ind_instance])\n",
    "                Y.append(each_class)\n",
    "        clf = LinearSVC()\n",
    "        clf.fit(X, Y)\n",
    "\n",
    "        dummyclf = DummyClassifier()\n",
    "        dummyclf.fit(X, Y)\n",
    "\n",
    "        X_test_nr = np.array([hot_vector (V_size, [V_feattoint[active_feature] for active_feature in instance if active_feature in V_feattoint]) for instance in feat_templates[test]])\n",
    "        \n",
    "        y_pred = clf.predict(X_test_nr)\n",
    "        dummyy_pred = dummyclf.predict(X_test_nr)\n",
    "        \n",
    "        evaluation = evaluate (y_pred, classes[test])\n",
    "        dummyevaluation = evaluate (dummyy_pred, classes[test])\n",
    "\n",
    "        results[file].append(evaluation)\n",
    "        dummyresults[file].append(dummyevaluation)\n",
    "        \n",
    "    allwords=[]\n",
    "    for w in feat_templates:\n",
    "        allwords.extend(w)"
   ]
  },
  {
   "cell_type": "code",
   "execution_count": 7,
   "metadata": {},
   "outputs": [
    {
     "data": {
      "text/plain": [
       "[<matplotlib.lines.Line2D at 0x10f8ea5c0>]"
      ]
     },
     "execution_count": 7,
     "metadata": {},
     "output_type": "execute_result"
    },
    {
     "data": {
      "image/png": "[encoded data removed]",
      "text/plain": [
       "<matplotlib.figure.Figure at 0x10f8ea5f8>"
      ]
     },
     "metadata": {},
     "output_type": "display_data"
    }
   ],
   "source": [
    "#print (dummy_results)\n",
    "#print (svm_results)\n",
    "\n",
    "#for file in results.keys():\n",
    "#    print (file)\n",
    "#    print (np.mean(results[file]))\n",
    "#    print (np.mean(dummyresults[file]))\n",
    "#    for fold in range(0,5):\n",
    "#        print (results[file][fold], dummyresults[file][fold])\n",
    "#    print ()\n",
    "res = [np.mean(results[file]) for file in results.keys()]\n",
    "dummyres = [np.mean(dummyresults[file]) for file in results.keys()]\n",
    "\n",
    "plt.plot(range(len(res)), res, color='blue')\n",
    "plt.plot(range(len(dummyres)), dummyres, color='red')\n"
   ]
  },
  {
   "cell_type": "code",
   "execution_count": 8,
   "metadata": {
    "collapsed": true
   },
   "outputs": [],
   "source": [
    "#X=[['aa','vv','aaa','aa','bbg'], ['zz','aa','bbg']]\n",
    "\n",
    "\n",
    "#X_num = [[feattoint.get(feat_temp) for feat_temp in inst] for inst in X]\n",
    "#X_num\n",
    "clustered_reduced = pd.DataFrame(results).mean().iloc[0:10]\n",
    "clustered = pd.DataFrame(results).mean().iloc[10:20]\n",
    "regular = pd.DataFrame(results).mean().iloc[20:]\n",
    "dummyclustered_reduced = pd.DataFrame(dummyresults).mean().iloc[0:10]\n",
    "dummyclustered = pd.DataFrame(dummyresults).mean().iloc[10:20]\n",
    "dummyregular = pd.DataFrame(dummyresults).mean().iloc[20:]\n"
   ]
  },
  {
   "cell_type": "code",
   "execution_count": 9,
   "metadata": {},
   "outputs": [
    {
     "name": "stdout",
     "output_type": "stream",
     "text": [
      "Current size: [6.0, 4.0]\n"
     ]
    },
    {
     "data": {
      "image/png": "[encoded data removed]",
      "text/plain": [
       "<matplotlib.figure.Figure at 0x104663860>"
      ]
     },
     "metadata": {},
     "output_type": "display_data"
    }
   ],
   "source": [
    "fig = plt.figure()\n",
    "ax = fig.add_subplot(111)\n",
    "\n",
    "width =0.27\n",
    "ind = np.arange(10)\n",
    "plt.bar(ind-width, regular.values, width, color='red')\n",
    "plt.bar(ind, clustered.values, width, color='green')\n",
    "plt.bar(ind+width, clustered_reduced.values, width, color='blue')\n",
    "plt.bar(ind-width, dummyregular.values, width, color='black', alpha=0.5)\n",
    "plt.bar(ind, dummyclustered.values, width, color='black', alpha=0.5)\n",
    "plt.bar(ind+width, dummyclustered_reduced.values, width, color='black', alpha=0.5)\n",
    "clustered.values\n",
    "ax.set_xticks(ind)\n",
    "ax.set_xticklabels(('blik', 'hul', 'kort', 'model', 'plads', 'selskab', 'skade', 'skud', 'slag', 'vold'))\n",
    "plt.legend(('regular', 'clustered', 'clustered reduced', 'baseline'));\n",
    "plt.axis([-0.5, 10, 0.0, 1.0])\n",
    "fig_size = plt.rcParams[\"figure.figsize\"]\n",
    "# Prints: Current size: [6.4, 4.8]\n",
    "print (\"Current size:\", fig_size)\n",
    "# Set figure width to 12 and height to 9\n",
    "fig_size[0] = 12\n",
    "fig_size[1] = 6\n",
    "plt.rcParams[\"figure.figsize\"] = fig_size\n",
    "#plt.savefig(\"accuracies_linearsvm.png\", dpi=300)"
   ]
  },
  {
   "cell_type": "code",
   "execution_count": null,
   "metadata": {},
   "outputs": [],
   "source": [
    "fig = plt.figure()\n",
    "ax = fig.add_subplot(111)\n",
    "\n",
    "plt.bar(ind-width, dummyregular.values, width, color='red')\n",
    "plt.bar(ind, dummyclustered.values, width, color='green')\n",
    "plt.bar(ind+width, dummyclustered_reduced.values, width, color='blue')\n",
    "clustered.values\n",
    "ax.set_xticks(ind)\n",
    "ax.set_xticklabels(('blik', 'hul', 'kort', 'model', 'plads', 'selskab', 'skade', 'skud', 'slag', 'vold'))\n",
    "plt.legend(('regular', 'clustered', 'clustered reduced'));\n",
    "plt.axis([-0.5, 10, 0.0, 1.0])\n",
    "fig_size = plt.rcParams[\"figure.figsize\"]\n",
    "# Prints: Current size: [6.4, 4.8]\n",
    "print (\"Current size:\", fig_size)\n",
    "# Set figure width to 12 and height to 9\n",
    "fig_size[0] = 18\n",
    "fig_size[1] = 11\n",
    "plt.rcParams[\"figure.figsize\"] = fig_size\n",
    "plt.savefig(\"accuracies_dummy.png\", dpi=300)"
   ]
  },
  {
   "cell_type": "code",
   "execution_count": null,
   "metadata": {
    "collapsed": true
   },
   "outputs": [],
   "source": []
  }
 ],
 "metadata": {
  "kernelspec": {
   "display_name": "Python 3",
   "language": "python",
   "name": "python3"
  },
  "language_info": {
   "codemirror_mode": {
    "name": "ipython",
    "version": 3
   },
   "file_extension": ".py",
   "mimetype": "text/x-python",
   "name": "python",
   "nbconvert_exporter": "python",
   "pygments_lexer": "ipython3",
   "version": "3.6.1"
  }
 },
 "nbformat": 4,
 "nbformat_minor": 2
}
